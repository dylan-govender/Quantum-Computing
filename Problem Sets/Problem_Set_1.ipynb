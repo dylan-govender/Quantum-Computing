{

  "nbformat": 4,
  "nbformat_minor": 0,
  "metadata": {
    "colab": {
      "provenance": [],
      "authorship_tag": "ABX9TyPGKl82DxQTBBu2wQadjGG4",
      "include_colab_link": true
    },
    "kernelspec": {
      "name": "python3",
      "display_name": "Python 3"
    },
    "language_info": {
      "name": "python"
    }
  },
  "cells": [
    {
      "cell_type": "markdown",
      "metadata": {
        "id": "view-in-github",
        "colab_type": "text"
      },
      "source": [
        "<a href=\"https://colab.research.google.com/github/dylan-govender/Quantum-Computing/blob/main/Problem_Set_1_COMP718.ipynb\" target=\"_parent\"><img src=\"https://colab.research.google.com/assets/colab-badge.svg\" alt=\"Open In Colab\"/></a>"
      ]
    },
    {
      "cell_type": "code",
      "execution_count": 1,
      "metadata": {
        "colab": {
          "base_uri": "https://localhost:8080/"
        },
        "id": "2MPdV-xZtE45",
        "outputId": "62f53b97-3e6b-433c-cdb4-ffa73f82453e"
      },
      "outputs": [
        {
          "output_type": "stream",
          "name": "stdout",
          "text": [
            "Inner Product ⟨a|b⟩: (381+0j)\n",
            "Normalized vector |a⟩: [-0.51231552+0.40985242j -0.35862086+0.40985242j -0.1024631 -0.51231552j]\n",
            "Vector |v⟩ in basis {|+⟩, |−⟩}: [1.+2.j 3.+0.j]\n"
          ]
        }
      ],
      "source": [
        "import numpy as np\n",
        "\n",
        "# Define the vectors\n",
        "a = np.array([-10 + 8j, -7 + 8j, -2 - 10j])\n",
        "b = np.array([-10 + 8j, -7 + 8j, -2 - 10j])\n",
        "v = np.array([1 + 2j, 3])\n",
        "\n",
        "# 1. Calculate the inner product\n",
        "inner_product = np.vdot(a, b)\n",
        "print(f\"Inner Product ⟨a|b⟩: {inner_product}\")\n",
        "\n",
        "# 2. Normalize the vector |a⟩\n",
        "norm_a = np.linalg.norm(a)\n",
        "a_normalized = a / norm_a\n",
        "print(f\"Normalized vector |a⟩: {a_normalized}\")\n",
        "\n",
        "# 3. Express vector |v⟩ in the basis {|+⟩, |−⟩}\n",
        "# Assuming |+⟩ = [1, 0] and |−⟩ = [0, 1]\n",
        "\n",
        "# Define the basis vectors\n",
        "plus_basis = np.array([1, 0])\n",
        "minus_basis = np.array([0, 1])\n",
        "\n",
        "# Calculate the inner products with the basis vectors\n",
        "inner_product_plus = np.vdot(plus_basis, v)\n",
        "inner_product_minus = np.vdot(minus_basis, v)\n",
        "\n",
        "# Express |v⟩ in terms of the basis vectors\n",
        "v_in_basis = inner_product_plus * plus_basis + inner_product_minus * minus_basis\n",
        "print(f\"Vector |v⟩ in basis {{|+⟩, |−⟩}}: {v_in_basis}\")\n",
        "\n",
        "# Verification to show |v⟩ is expressed correctly\n",
        "assert np.allclose(v, v_in_basis), \"Vector |v⟩ is not correctly expressed in the given basis\"\n",
        "print(\"Verification successful: |v⟩ is correctly expressed in the given basis.\")"
      ]
    },
    {
      "cell_type": "code",
      "source": [
        "import numpy as np\n",
        "\n",
        "# Define the basis vectors\n",
        "zero = np.array([1, 0])\n",
        "one = np.array([0, 1])\n",
        "\n",
        "# Define the operator Y in the basis {|0⟩, |1⟩}\n",
        "Y_matrix_standard_basis = np.array([[0, -1j], [1j, 0]])\n",
        "\n",
        "print(\"Matrix representation of Y in the basis {|0⟩, |1⟩}:\")\n",
        "print(Y_matrix_standard_basis)\n",
        "\n",
        "# Define the new basis vectors\n",
        "plus = (1/np.sqrt(2)) * (zero + one)\n",
        "minus = (1/np.sqrt(2)) * (zero - one)\n",
        "\n",
        "# Compute Y|+⟩ and Y|−⟩\n",
        "Y_plus = Y_matrix_standard_basis @ plus\n",
        "Y_minus = Y_matrix_standard_basis @ minus\n",
        "\n",
        "print(\"Y|+⟩:\", Y_plus)\n",
        "print(\"Y|−⟩:\", Y_minus)\n",
        "\n",
        "# Define the matrix representation of Y in the basis {|+⟩, |−⟩}\n",
        "Y_matrix_new_basis = np.array([[0, 1j], [1j, 0]])\n",
        "\n",
        "print(\"Matrix representation of Y in the basis {|+⟩, |−⟩}:\")\n",
        "print(Y_matrix_new_basis)"
      ],
      "metadata": {
        "colab": {
          "base_uri": "https://localhost:8080/"
        },
        "id": "0zAAhr-XvFpo",
        "outputId": "fae81db8-e86c-4b65-eea8-51d500c3a5c2"
      },
      "execution_count": 2,
      "outputs": [
        {
          "output_type": "stream",
          "name": "stdout",
          "text": [
            "Matrix representation of Y in the basis {|0⟩, |1⟩}:\n",
            "[[ 0.+0.j -0.-1.j]\n",
            " [ 0.+1.j  0.+0.j]]\n",
            "Y|+⟩: [0.-0.70710678j 0.+0.70710678j]\n",
            "Y|−⟩: [0.+0.70710678j 0.+0.70710678j]\n",
            "Matrix representation of Y in the basis {|+⟩, |−⟩}:\n",
            "[[0.+0.j 0.+1.j]\n",
            " [0.+1.j 0.+0.j]]\n"
          ]
        }
      ]
    }
  ]
}
